{
 "cells": [
  {
   "cell_type": "code",
   "execution_count": 1,
   "metadata": {
    "collapsed": true
   },
   "outputs": [],
   "source": [
    "import os\n",
    "from pycrunchbase import CrunchBase"
   ]
  },
  {
   "cell_type": "code",
   "execution_count": 2,
   "metadata": {
    "collapsed": true
   },
   "outputs": [],
   "source": [
    "API_KEY = os.environ[\"crunchbaseapi_ACCESS_KEY_ID\"]\n",
    "cb = CrunchBase(API_KEY)"
   ]
  },
  {
   "cell_type": "code",
   "execution_count": 3,
   "metadata": {
    "collapsed": false
   },
   "outputs": [
    {
     "data": {
      "text/plain": [
       "pycrunchbase CrunchBase API"
      ]
     },
     "execution_count": 3,
     "metadata": {},
     "output_type": "execute_result"
    }
   ],
   "source": [
    "cb"
   ]
  },
  {
   "cell_type": "markdown",
   "metadata": {},
   "source": [
    "https://github.com/ngzhian/pycrunchbase/blob/master/README.rst "
   ]
  },
  {
   "cell_type": "markdown",
   "metadata": {},
   "source": [
    "http://pycrunchbase.readthedocs.io/en/latest/usage.html"
   ]
  },
  {
   "cell_type": "code",
   "execution_count": 4,
   "metadata": {
    "collapsed": false
   },
   "outputs": [],
   "source": [
    "netflix = cb.organization('netflix')"
   ]
  },
  {
   "cell_type": "code",
   "execution_count": 5,
   "metadata": {
    "collapsed": false
   },
   "outputs": [
    {
     "data": {
      "text/plain": [
       "Organization: Netflix"
      ]
     },
     "execution_count": 5,
     "metadata": {},
     "output_type": "execute_result"
    }
   ],
   "source": [
    "netflix"
   ]
  },
  {
   "cell_type": "code",
   "execution_count": 6,
   "metadata": {
    "collapsed": false
   },
   "outputs": [
    {
     "data": {
      "text/plain": [
       "u'Netflix is an online platform that enables user to watch TV shows and movies on smart TVs, gaming consoles, PCs, Macs, mobiles, tablets, and so on. It provides its services under three segments: international streaming, domestic streaming, and domestic DVD.\\r\\n\\r\\nThe network enables members to access and view more than one billion hours of TV shows and movies per month, including Netflix original series. Members can play, pause, and resume watching its content without commercial breaks or commitments. The company also provides DVDs-by-mail membership services.\\r\\n\\r\\nNetflix was founded in 1997 by Mitch Lowe, Reed Hastings, and Marc Randolph, and is headquartered in Los Gatos, California.'"
      ]
     },
     "execution_count": 6,
     "metadata": {},
     "output_type": "execute_result"
    }
   ],
   "source": [
    "netflix.description"
   ]
  },
  {
   "cell_type": "code",
   "execution_count": 7,
   "metadata": {
    "collapsed": false
   },
   "outputs": [
    {
     "data": {
      "text/plain": [
       "funding_rounds Total: 10 https://api.crunchbase.com/v/3/organizations/netflix/funding_rounds"
      ]
     },
     "execution_count": 7,
     "metadata": {},
     "output_type": "execute_result"
    }
   ],
   "source": [
    "netflix.funding_rounds"
   ]
  },
  {
   "cell_type": "code",
   "execution_count": 8,
   "metadata": {
    "collapsed": false
   },
   "outputs": [
    {
     "data": {
      "text/plain": [
       "news Total: 47098 https://api.crunchbase.com/v/3/organizations/netflix/news"
      ]
     },
     "execution_count": 8,
     "metadata": {},
     "output_type": "execute_result"
    }
   ],
   "source": [
    "netflix.news"
   ]
  },
  {
   "cell_type": "code",
   "execution_count": 12,
   "metadata": {
    "collapsed": false
   },
   "outputs": [],
   "source": [
    "facebook = cb.organization('facebook')"
   ]
  },
  {
   "cell_type": "code",
   "execution_count": 13,
   "metadata": {
    "collapsed": false
   },
   "outputs": [
    {
     "data": {
      "text/plain": [
       "u'Facebook is an online social networking service that allows its users to connect with friends and family as well as make new connections. It provides its users with the ability to create a profile, update information, add images, send friend requests, and accept requests from other users. Its features include status update, photo tagging and sharing, and more.\\r\\n\\r\\n\\r\\nFacebook\\u2019s profile structure includes a timeline, information related to the user, images of the user, images added by friends of the user, notes, pages, groups, and more. It enables its users to create pages related to entertainment, sports, business, finance, preferences, hobbies, culture, religion, causes, organizations, and a number of other categories. It also enables its users to join or create groups related to a vast number of categories.\\r\\n\\r\\n\\r\\nWith millions of more users, [Friendster](http://www.crunchbase.com/organization/friendster) attempted to acquire the company for $10 million in mid-2004. Facebook turned down the offer and subsequently received $12.7 million in funding from [Accel Partners](http://www.crunchbase.com/organization/accel-partners) at a valuation of around $100 million. Facebook continued to grow opening up to high school students in September 2005 and adding a photo sharing feature the next month. The next spring, Facebook received $25 million in funding from [Greylock Partners](http://www.crunchbase.com/organization/greylock) and [Meritech Capital](http://www.crunchbase.com/organization/meritech-capital-partners) as well as previous investors [Accel Partners](http://www.crunchbase.com/organization/accel-partners) and [Peter Thiel](http://www.crunchbase.com/person/peter-thiel). The pre-money valuation for this deal was about $525 million. Facebook subsequently opened up to work networks eventually amassing over 20,000 work networks. Finally in September 2006, Facebook was opened to anyone with an email address.\\r\\n\\r\\n\\r\\nFacebook continued to receive funding most notably in January 2011 receiving $1.5 billion and valuing the company at $50 billion. A year later in February 2012, Facebook announced that it was filing for its long-anticipated initial public offering. The company went public on May 18, 2012 opening in [NASDAQ](http://www.crunchbase.com/organization/nasdaq-private-market) with shares trading at $42.05.\\r\\n\\r\\n\\r\\nFacebook announced positive numbers in February 2012 upon filing for its IPO. As of July 2013 over 1.15 billion users have logged into Facebook every month and 669 million users daily. Mobile users now make up half of Facebook\\u2019s user base with 819 million monthly actives. Facebook is one of the most trafficked sites in the United States. Additionally, Facebook is the top photo sharing site with 250 million photos uploaded per day.\\r\\n\\r\\n\\r\\nThe company has strategic partnership with AXA Group to develop marketing and commercial collaboration in the digital, social, and mobile sphere.\\r\\n\\r\\n\\r\\nFacebook is currently the owner of many applications and services such as Pagemodo Pagebuilder, [RSS Graffiti](http://www.crunchbase.com/organization/rss-graffiti), [Huddle](http://www.crunchbase.com/product/huddle), and more. It is the world\\u2019s largest social network with over 1.32 billion monthly active users.\\r\\n\\r\\n\\r\\nFacebook was founded by [Mark Zuckerberg](http://www.crunchbase.com/person/mark-zuckerberg), [Eduardo Saverin](http://www.crunchbase.com/person/eduardo-saverin), [Andrew McCollum](http://www.crunchbase.com/person/andrew-mccollum), [Dustin Moskovitz](http://www.crunchbase.com/person/dustin-moskovitz), and [Chris Hughes](http://www.crunchbase.com/person/chris-hughes) on February 4, 2004 in Menlo Park, California.'"
      ]
     },
     "execution_count": 13,
     "metadata": {},
     "output_type": "execute_result"
    }
   ],
   "source": [
    "facebook.description"
   ]
  },
  {
   "cell_type": "code",
   "execution_count": null,
   "metadata": {
    "collapsed": true
   },
   "outputs": [],
   "source": []
  }
 ],
 "metadata": {
  "anaconda-cloud": {},
  "kernelspec": {
   "display_name": "Python [Root]",
   "language": "python",
   "name": "Python [Root]"
  },
  "language_info": {
   "codemirror_mode": {
    "name": "ipython",
    "version": 2
   },
   "file_extension": ".py",
   "mimetype": "text/x-python",
   "name": "python",
   "nbconvert_exporter": "python",
   "pygments_lexer": "ipython2",
   "version": "2.7.12"
  }
 },
 "nbformat": 4,
 "nbformat_minor": 0
}
